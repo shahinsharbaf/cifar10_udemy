{
  "nbformat": 4,
  "nbformat_minor": 0,
  "metadata": {
    "colab": {
      "provenance": [],
      "authorship_tag": "ABX9TyMUF9g+PosOsD+8qE4yBmk3",
      "include_colab_link": true
    },
    "kernelspec": {
      "name": "python3",
      "display_name": "Python 3"
    },
    "language_info": {
      "name": "python"
    }
  },
  "cells": [
    {
      "cell_type": "markdown",
      "metadata": {
        "id": "view-in-github",
        "colab_type": "text"
      },
      "source": [
        "<a href=\"https://colab.research.google.com/github/shahinsharbaf/cifar10_udemy/blob/main/Untitled3.ipynb\" target=\"_parent\"><img src=\"https://colab.research.google.com/assets/colab-badge.svg\" alt=\"Open In Colab\"/></a>"
      ]
    },
    {
      "cell_type": "code",
      "execution_count": null,
      "metadata": {
        "id": "GnEoY_9gA3nf"
      },
      "outputs": [],
      "source": [
        "import tensorflow as tf\n",
        "import numpy as np\n",
        "import datetime\n",
        "import pandas as pd\n",
        "import matplotlib.pyplot as plt\n",
        "import seaborn as sns\n",
        "import random"
      ]
    },
    {
      "cell_type": "code",
      "source": [
        "cifar10 = tf.keras.datasets.cifar10\n",
        "(train_image, train_label),(test_image, test_label) = cifar10.load_data()"
      ],
      "metadata": {
        "colab": {
          "base_uri": "https://localhost:8080/"
        },
        "id": "HOHY9Hp5DD9M",
        "outputId": "19265da1-55c1-4ee2-c869-c542c6023b10"
      },
      "execution_count": null,
      "outputs": [
        {
          "output_type": "stream",
          "name": "stdout",
          "text": [
            "Downloading data from https://www.cs.toronto.edu/~kriz/cifar-10-python.tar.gz\n",
            "170498071/170498071 [==============================] - 2s 0us/step\n"
          ]
        }
      ]
    },
    {
      "cell_type": "code",
      "source": [
        "for i in range(420,427):\n",
        "  plt.imshow(train_image[427])"
      ],
      "metadata": {
        "id": "JNAVe1NNDyzA"
      },
      "execution_count": null,
      "outputs": []
    },
    {
      "cell_type": "code",
      "source": [
        "train_image = train_image.astype('float32')\n",
        "test_image = test_image.astype('float32')"
      ],
      "metadata": {
        "id": "GyU5yrWQK1i4"
      },
      "execution_count": null,
      "outputs": []
    },
    {
      "cell_type": "code",
      "source": [
        "train_label"
      ],
      "metadata": {
        "id": "0lzt3RvqL3uZ"
      },
      "execution_count": null,
      "outputs": []
    },
    {
      "cell_type": "code",
      "source": [
        "train_label = tf.keras.utils.to_categorical(train_label,10)"
      ],
      "metadata": {
        "id": "yrIqkx5OLms8"
      },
      "execution_count": null,
      "outputs": []
    },
    {
      "cell_type": "code",
      "source": [
        "train_label"
      ],
      "metadata": {
        "id": "Q6AAXM8lMO69"
      },
      "execution_count": null,
      "outputs": []
    },
    {
      "cell_type": "code",
      "source": [
        "test_label = tf.keras.utils.to_categorical(test_label,10)"
      ],
      "metadata": {
        "id": "fkr21q9cO0bg"
      },
      "execution_count": null,
      "outputs": []
    },
    {
      "cell_type": "code",
      "source": [
        "train_image = train_image/255\n",
        "test_image = test_image/255"
      ],
      "metadata": {
        "id": "c-SwEp0rPSWX"
      },
      "execution_count": null,
      "outputs": []
    },
    {
      "cell_type": "code",
      "source": [
        "model = tf.keras.Sequential()\n",
        "model.add(tf.keras.layers.Conv2D(32,(3,3),activation = 'relu',input_shape = (32,32,3)))\n",
        "model.add(tf.keras.layers.Conv2D(32,(3,3),activation = 'relu'))\n",
        "model.add(tf.keras.layers.MaxPooling2D(2,2))\n",
        "model.add(tf.keras.layers.Dropout(0.3))\n",
        "\n",
        "model.add(tf.keras.layers.Flatten())\n",
        "\n",
        "model.add(tf.keras.layers.Dense(1024,activation='relu'))\n",
        "model.add(tf.keras.layers.Dense(10,activation='softmax'))"
      ],
      "metadata": {
        "id": "5QObGMMMRDUp"
      },
      "execution_count": null,
      "outputs": []
    },
    {
      "cell_type": "code",
      "source": [
        "model.compile()"
      ],
      "metadata": {
        "id": "QR_JxIHZTWCb"
      },
      "execution_count": null,
      "outputs": []
    }
  ]
}